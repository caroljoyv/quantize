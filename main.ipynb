{
 "cells": [
  {
   "cell_type": "code",
   "execution_count": null,
   "id": "44a5a2c1-0233-4398-835a-2325710796a9",
   "metadata": {},
   "outputs": [],
   "source": [
    "# exporting models by optimum-cli\n",
    "!optimum-cli export onnx --model openai/whisper-tiny whisper-tiny-with-past/ --task automatic-speech-recognition-with-past --opset 13\n"
   ]
  },
  {
   "cell_type": "markdown",
   "id": "69527c24-eccb-4b1d-a803-496448026a72",
   "metadata": {},
   "source": [
    "# Export and save model to onnx"
   ]
  },
  {
   "cell_type": "code",
   "execution_count": 47,
   "id": "a350dd18-6eab-4c20-b49e-e76ba8d72946",
   "metadata": {},
   "outputs": [],
   "source": [
    "import os\n",
    "import time\n",
    "import shutil\n",
    "from evaluate import load\n",
    "from pathlib import Path\n",
    "from datasets import load_dataset\n",
    "from transformers import WhisperForConditionalGeneration, WhisperProcessor, AutoConfig\n",
    "from optimum.onnxruntime import ORTModelForSpeechSeq2Seq, ORTQuantizer, AutoQuantizationConfig\n",
    "from transformers import PretrainedConfig\n",
    "import librosa\n",
    "import numpy as np"
   ]
  },
  {
   "cell_type": "code",
   "execution_count": 48,
   "id": "527fadbf-2c4d-4858-92cd-942823e3602a",
   "metadata": {},
   "outputs": [],
   "source": [
    "# Export model to ONNX\n",
    "def export_onnx(model_id, save_dir):\n",
    "    model = ORTModelForSpeechSeq2Seq.from_pretrained(model_id, export=True)\n",
    "    model_dir = model.model_save_dir\n",
    "    # print(model.get_memory_footprint())\n",
    "        \n",
    "    shutil.move(model_dir, save_dir)\n",
    "    print(\"Model exported to onnx and saved at location \", save_dir)"
   ]
  },
  {
   "cell_type": "code",
   "execution_count": null,
   "id": "c7df1128-2bd3-4d22-a37d-71980d111af5",
   "metadata": {},
   "outputs": [],
   "source": [
    "# export whisper-small\n",
    "export_onnx(\"openai/whisper-small\",\"/home/carol/mp/quantize/small-whisper\")"
   ]
  },
  {
   "cell_type": "code",
   "execution_count": null,
   "id": "6c8d8c0c-affa-45e9-9256-aa9f2875e97c",
   "metadata": {},
   "outputs": [],
   "source": [
    "#export whisper-tiny\n",
    "export_onnx(\"openai/whisper-xxxxx\",\"/home/carol/mp/quantize/xxxxxxxxx\")"
   ]
  },
  {
   "cell_type": "code",
   "execution_count": 49,
   "id": "39e758a8-24a5-45cc-b520-297330ca2b4a",
   "metadata": {},
   "outputs": [
    {
     "name": "stderr",
     "output_type": "stream",
     "text": [
      "Framework not specified. Using pt to export the model.\n",
      "Special tokens have been added in the vocabulary, make sure the associated word embeddings are fine-tuned or trained.\n",
      "Special tokens have been added in the vocabulary, make sure the associated word embeddings are fine-tuned or trained.\n",
      "Using the export variant default. Available variants are:\n",
      "    - default: The default ONNX variant.\n",
      "Some non-default generation parameters are set in the model config. These should go into a GenerationConfig file (https://huggingface.co/docs/transformers/generation_strategies#save-a-custom-decoding-strategy-with-your-model) instead. This warning will be raised to an exception in v4.41.\n",
      "Non-default generation parameters: {'max_length': 448, 'suppress_tokens': [1, 2, 7, 8, 9, 10, 14, 25, 26, 27, 28, 29, 31, 58, 59, 60, 61, 62, 63, 90, 91, 92, 93, 359, 503, 522, 542, 873, 893, 902, 918, 922, 931, 1350, 1853, 1982, 2460, 2627, 3246, 3253, 3268, 3536, 3846, 3961, 4183, 4667, 6585, 6647, 7273, 9061, 9383, 10428, 10929, 11938, 12033, 12331, 12562, 13793, 14157, 14635, 15265, 15618, 16553, 16604, 18362, 18956, 20075, 21675, 22520, 26130, 26161, 26435, 28279, 29464, 31650, 32302, 32470, 36865, 42863, 47425, 49870, 50254, 50258, 50358, 50359, 50360, 50361, 50362], 'begin_suppress_tokens': [220, 50257]}\n",
      "Special tokens have been added in the vocabulary, make sure the associated word embeddings are fine-tuned or trained.\n",
      "Special tokens have been added in the vocabulary, make sure the associated word embeddings are fine-tuned or trained.\n",
      "Using framework PyTorch: 2.2.1+cu121\n",
      "Overriding 1 configuration item(s)\n",
      "\t- use_cache -> False\n",
      "/home/carol/mp/quantize/intel/lib/python3.10/site-packages/transformers/models/whisper/modeling_whisper.py:1165: TracerWarning: Converting a tensor to a Python boolean might cause the trace to be incorrect. We can't record the data flow of Python values, so this value will be treated as a constant in the future. This means that the trace might not generalize to other inputs!\n",
      "  if input_features.shape[-1] != expected_seq_length:\n",
      "/home/carol/mp/quantize/intel/lib/python3.10/site-packages/transformers/models/whisper/modeling_whisper.py:344: TracerWarning: Converting a tensor to a Python boolean might cause the trace to be incorrect. We can't record the data flow of Python values, so this value will be treated as a constant in the future. This means that the trace might not generalize to other inputs!\n",
      "  if attn_weights.size() != (bsz * self.num_heads, tgt_len, src_len):\n",
      "/home/carol/mp/quantize/intel/lib/python3.10/site-packages/transformers/models/whisper/modeling_whisper.py:383: TracerWarning: Converting a tensor to a Python boolean might cause the trace to be incorrect. We can't record the data flow of Python values, so this value will be treated as a constant in the future. This means that the trace might not generalize to other inputs!\n",
      "  if attn_output.size() != (bsz * self.num_heads, tgt_len, self.head_dim):\n",
      "Using framework PyTorch: 2.2.1+cu121\n",
      "Overriding 1 configuration item(s)\n",
      "\t- use_cache -> True\n",
      "/home/carol/mp/quantize/intel/lib/python3.10/site-packages/transformers/modeling_attn_mask_utils.py:86: TracerWarning: Converting a tensor to a Python boolean might cause the trace to be incorrect. We can't record the data flow of Python values, so this value will be treated as a constant in the future. This means that the trace might not generalize to other inputs!\n",
      "  if input_shape[-1] > 1 or self.sliding_window is not None:\n",
      "/home/carol/mp/quantize/intel/lib/python3.10/site-packages/transformers/modeling_attn_mask_utils.py:162: TracerWarning: Converting a tensor to a Python boolean might cause the trace to be incorrect. We can't record the data flow of Python values, so this value will be treated as a constant in the future. This means that the trace might not generalize to other inputs!\n",
      "  if past_key_values_length > 0:\n",
      "/home/carol/mp/quantize/intel/lib/python3.10/site-packages/transformers/models/whisper/modeling_whisper.py:351: TracerWarning: Converting a tensor to a Python boolean might cause the trace to be incorrect. We can't record the data flow of Python values, so this value will be treated as a constant in the future. This means that the trace might not generalize to other inputs!\n",
      "  if attention_mask.size() != (bsz, 1, tgt_len, src_len):\n",
      "Using framework PyTorch: 2.2.1+cu121\n",
      "Overriding 1 configuration item(s)\n",
      "\t- use_cache -> True\n",
      "/home/carol/mp/quantize/intel/lib/python3.10/site-packages/transformers/models/whisper/modeling_whisper.py:306: TracerWarning: Converting a tensor to a Python boolean might cause the trace to be incorrect. We can't record the data flow of Python values, so this value will be treated as a constant in the future. This means that the trace might not generalize to other inputs!\n",
      "  and past_key_value[0].shape[2] == key_value_states.shape[1]\n",
      "Some non-default generation parameters are set in the model config. These should go into a GenerationConfig file (https://huggingface.co/docs/transformers/generation_strategies#save-a-custom-decoding-strategy-with-your-model) instead. This warning will be raised to an exception in v4.41.\n",
      "Non-default generation parameters: {'max_length': 448, 'suppress_tokens': [1, 2, 7, 8, 9, 10, 14, 25, 26, 27, 28, 29, 31, 58, 59, 60, 61, 62, 63, 90, 91, 92, 93, 359, 503, 522, 542, 873, 893, 902, 918, 922, 931, 1350, 1853, 1982, 2460, 2627, 3246, 3253, 3268, 3536, 3846, 3961, 4183, 4667, 6585, 6647, 7273, 9061, 9383, 10428, 10929, 11938, 12033, 12331, 12562, 13793, 14157, 14635, 15265, 15618, 16553, 16604, 18362, 18956, 20075, 21675, 22520, 26130, 26161, 26435, 28279, 29464, 31650, 32302, 32470, 36865, 42863, 47425, 49870, 50254, 50258, 50358, 50359, 50360, 50361, 50362], 'begin_suppress_tokens': [220, 50257]}\n",
      "Special tokens have been added in the vocabulary, make sure the associated word embeddings are fine-tuned or trained.\n",
      "Special tokens have been added in the vocabulary, make sure the associated word embeddings are fine-tuned or trained.\n",
      "Special tokens have been added in the vocabulary, make sure the associated word embeddings are fine-tuned or trained.\n",
      "Special tokens have been added in the vocabulary, make sure the associated word embeddings are fine-tuned or trained.\n"
     ]
    },
    {
     "name": "stdout",
     "output_type": "stream",
     "text": [
      "Model exported to onnx and saved at location  /home/carol/mp/quantize/base\n"
     ]
    }
   ],
   "source": [
    "#export whisper-base\n",
    "export_onnx(\"openai/whisper-base\",\"/home/carol/mp/quantize/base\")"
   ]
  },
  {
   "cell_type": "markdown",
   "id": "a2c02bd4-aaa0-4f1c-b579-c51d1a7d45a4",
   "metadata": {},
   "source": [
    "# Dynamic Quantization - intel (symmetric weights and activations)"
   ]
  },
  {
   "cell_type": "code",
   "execution_count": 50,
   "id": "13a8b60c-b294-4657-abae-5cf0ac07cddb",
   "metadata": {},
   "outputs": [],
   "source": [
    "from pathlib import Path\n",
    "def quantize_nor(model_dir, save_dir):\n",
    "    \n",
    "    # create list of onnx models from the directory\n",
    "    onnx_models = list(Path(model_dir).glob(\"*.onnx\"))\n",
    "\n",
    "    # instantiate quantizer and set quantization configuration\n",
    "    quantizers = [ORTQuantizer.from_pretrained(model_dir, file_name=onnx_model) for onnx_model in onnx_models]\n",
    "    qconfig = AutoQuantizationConfig.avx512_vnni(is_static=False, per_channel=False,nodes_to_exclude=['/conv1/Conv', '/conv2/Conv'],use_symmetric_activations=True,  \n",
    "        use_symmetric_weights=True,  \n",
    "        operators_to_quantize=None )\n",
    "\n",
    "    for quantizer in quantizers:\n",
    "        # Apply dynamic quantization and save the resulting model\n",
    "        quantizer.quantize(save_dir=save_dir, quantization_config=qconfig)\n",
    "        print(\"quantized \", quantizer)\n",
    "    print(\"Quantization complete\")\n",
    "    "
   ]
  },
  {
   "cell_type": "markdown",
   "id": "3f8e0a35-76f8-4677-829a-303d3f1175db",
   "metadata": {},
   "source": [
    "# Dynamic Quantization - arm64"
   ]
  },
  {
   "cell_type": "code",
   "execution_count": 51,
   "id": "f58a2a6a-a6ff-4217-81f0-0d3a053aa4ec",
   "metadata": {},
   "outputs": [],
   "source": [
    "from pathlib import Path\n",
    "def quantize_arm(model_dir, save_dir):\n",
    "    \n",
    "    # create list of onnx models from the directory\n",
    "    onnx_models = list(Path(model_dir).glob(\"*.onnx\"))\n",
    "\n",
    "    # instantiate quantizer and set quantization configuration\n",
    "    quantizers = [ORTQuantizer.from_pretrained(model_dir, file_name=onnx_model) for onnx_model in onnx_models]\n",
    "    qconfig = AutoQuantizationConfig.arm64(is_static=False, per_channel=False,nodes_to_exclude=['/conv1/Conv', '/conv2/Conv'],use_symmetric_activations=True,  \n",
    "        use_symmetric_weights=True,  \n",
    "        operators_to_quantize=None )\n",
    "\n",
    "    for quantizer in quantizers:\n",
    "        # Apply dynamic quantization and save the resulting model\n",
    "        quantizer.quantize(save_dir=save_dir, quantization_config=qconfig)\n",
    "        print(\"quantized \", quantizer)\n",
    "    print(\"Quantization complete\")"
   ]
  },
  {
   "cell_type": "code",
   "execution_count": 9,
   "id": "5eac9fa3-15d8-41d1-a1a9-c4b3e83b4e5f",
   "metadata": {},
   "outputs": [
    {
     "name": "stderr",
     "output_type": "stream",
     "text": [
      "Creating dynamic quantizer: QOperator (mode: IntegerOps, schema: u8/s8, channel-wise: False)\n",
      "Quantizing model...\n",
      "Saving quantized model at: /home/carol/mp/quantize/tiny-sym (external data format: False)\n",
      "Configuration saved in /home/carol/mp/quantize/tiny-sym/ort_config.json\n",
      "Some non-default generation parameters are set in the model config. These should go into a GenerationConfig file (https://huggingface.co/docs/transformers/generation_strategies#save-a-custom-decoding-strategy-with-your-model) instead. This warning will be raised to an exception in v4.41.\n",
      "Non-default generation parameters: {'max_length': 448, 'suppress_tokens': [1, 2, 7, 8, 9, 10, 14, 25, 26, 27, 28, 29, 31, 58, 59, 60, 61, 62, 63, 90, 91, 92, 93, 359, 503, 522, 542, 873, 893, 902, 918, 922, 931, 1350, 1853, 1982, 2460, 2627, 3246, 3253, 3268, 3536, 3846, 3961, 4183, 4667, 6585, 6647, 7273, 9061, 9383, 10428, 10929, 11938, 12033, 12331, 12562, 13793, 14157, 14635, 15265, 15618, 16553, 16604, 18362, 18956, 20075, 21675, 22520, 26130, 26161, 26435, 28279, 29464, 31650, 32302, 32470, 36865, 42863, 47425, 49870, 50254, 50258, 50358, 50359, 50360, 50361, 50362], 'begin_suppress_tokens': [220, 50257]}\n",
      "Special tokens have been added in the vocabulary, make sure the associated word embeddings are fine-tuned or trained.\n",
      "Special tokens have been added in the vocabulary, make sure the associated word embeddings are fine-tuned or trained.\n",
      "Creating dynamic quantizer: QOperator (mode: IntegerOps, schema: u8/s8, channel-wise: False)\n"
     ]
    },
    {
     "name": "stdout",
     "output_type": "stream",
     "text": [
      "quantized  <optimum.onnxruntime.quantization.ORTQuantizer object at 0x7ed63444d060>\n"
     ]
    },
    {
     "name": "stderr",
     "output_type": "stream",
     "text": [
      "Quantizing model...\n",
      "Saving quantized model at: /home/carol/mp/quantize/tiny-sym (external data format: False)\n",
      "Configuration saved in /home/carol/mp/quantize/tiny-sym/ort_config.json\n",
      "Some non-default generation parameters are set in the model config. These should go into a GenerationConfig file (https://huggingface.co/docs/transformers/generation_strategies#save-a-custom-decoding-strategy-with-your-model) instead. This warning will be raised to an exception in v4.41.\n",
      "Non-default generation parameters: {'max_length': 448, 'suppress_tokens': [1, 2, 7, 8, 9, 10, 14, 25, 26, 27, 28, 29, 31, 58, 59, 60, 61, 62, 63, 90, 91, 92, 93, 359, 503, 522, 542, 873, 893, 902, 918, 922, 931, 1350, 1853, 1982, 2460, 2627, 3246, 3253, 3268, 3536, 3846, 3961, 4183, 4667, 6585, 6647, 7273, 9061, 9383, 10428, 10929, 11938, 12033, 12331, 12562, 13793, 14157, 14635, 15265, 15618, 16553, 16604, 18362, 18956, 20075, 21675, 22520, 26130, 26161, 26435, 28279, 29464, 31650, 32302, 32470, 36865, 42863, 47425, 49870, 50254, 50258, 50358, 50359, 50360, 50361, 50362], 'begin_suppress_tokens': [220, 50257]}\n",
      "Special tokens have been added in the vocabulary, make sure the associated word embeddings are fine-tuned or trained.\n",
      "Special tokens have been added in the vocabulary, make sure the associated word embeddings are fine-tuned or trained.\n",
      "Creating dynamic quantizer: QOperator (mode: IntegerOps, schema: u8/s8, channel-wise: False)\n"
     ]
    },
    {
     "name": "stdout",
     "output_type": "stream",
     "text": [
      "quantized  <optimum.onnxruntime.quantization.ORTQuantizer object at 0x7ed503998a00>\n"
     ]
    },
    {
     "name": "stderr",
     "output_type": "stream",
     "text": [
      "Quantizing model...\n",
      "Saving quantized model at: /home/carol/mp/quantize/tiny-sym (external data format: False)\n",
      "Configuration saved in /home/carol/mp/quantize/tiny-sym/ort_config.json\n",
      "Some non-default generation parameters are set in the model config. These should go into a GenerationConfig file (https://huggingface.co/docs/transformers/generation_strategies#save-a-custom-decoding-strategy-with-your-model) instead. This warning will be raised to an exception in v4.41.\n",
      "Non-default generation parameters: {'max_length': 448, 'suppress_tokens': [1, 2, 7, 8, 9, 10, 14, 25, 26, 27, 28, 29, 31, 58, 59, 60, 61, 62, 63, 90, 91, 92, 93, 359, 503, 522, 542, 873, 893, 902, 918, 922, 931, 1350, 1853, 1982, 2460, 2627, 3246, 3253, 3268, 3536, 3846, 3961, 4183, 4667, 6585, 6647, 7273, 9061, 9383, 10428, 10929, 11938, 12033, 12331, 12562, 13793, 14157, 14635, 15265, 15618, 16553, 16604, 18362, 18956, 20075, 21675, 22520, 26130, 26161, 26435, 28279, 29464, 31650, 32302, 32470, 36865, 42863, 47425, 49870, 50254, 50258, 50358, 50359, 50360, 50361, 50362], 'begin_suppress_tokens': [220, 50257]}\n",
      "Special tokens have been added in the vocabulary, make sure the associated word embeddings are fine-tuned or trained.\n",
      "Special tokens have been added in the vocabulary, make sure the associated word embeddings are fine-tuned or trained.\n"
     ]
    },
    {
     "name": "stdout",
     "output_type": "stream",
     "text": [
      "quantized  <optimum.onnxruntime.quantization.ORTQuantizer object at 0x7ed500deb670>\n",
      "Quantization complete\n"
     ]
    }
   ],
   "source": [
    "quantize_sym(\"/home/carol/mp/quantize/tiny\",\"/home/carol/mp/quantize/tiny-sym\")"
   ]
  },
  {
   "cell_type": "code",
   "execution_count": null,
   "id": "8b563ec3-3e21-496c-bcf0-7c2560a8bcfd",
   "metadata": {},
   "outputs": [],
   "source": [
    "d_quantize(\"/home/carol/mp/quantize/small-whisper\",\"/home/carol/mp/quantize/q-small\")"
   ]
  },
  {
   "cell_type": "code",
   "execution_count": 18,
   "id": "643ee12a-c547-4e2c-90a1-f5804153b5fb",
   "metadata": {},
   "outputs": [
    {
     "name": "stderr",
     "output_type": "stream",
     "text": [
      "Creating dynamic quantizer: QOperator (mode: IntegerOps, schema: u8/s8, channel-wise: False)\n",
      "Quantizing model...\n",
      "Saving quantized model at: /home/carol/mp/quantize/small-sym (external data format: False)\n",
      "Configuration saved in /home/carol/mp/quantize/small-sym/ort_config.json\n",
      "Some non-default generation parameters are set in the model config. These should go into a GenerationConfig file (https://huggingface.co/docs/transformers/generation_strategies#save-a-custom-decoding-strategy-with-your-model) instead. This warning will be raised to an exception in v4.41.\n",
      "Non-default generation parameters: {'max_length': 448, 'suppress_tokens': [1, 2, 7, 8, 9, 10, 14, 25, 26, 27, 28, 29, 31, 58, 59, 60, 61, 62, 63, 90, 91, 92, 93, 359, 503, 522, 542, 873, 893, 902, 918, 922, 931, 1350, 1853, 1982, 2460, 2627, 3246, 3253, 3268, 3536, 3846, 3961, 4183, 4667, 6585, 6647, 7273, 9061, 9383, 10428, 10929, 11938, 12033, 12331, 12562, 13793, 14157, 14635, 15265, 15618, 16553, 16604, 18362, 18956, 20075, 21675, 22520, 26130, 26161, 26435, 28279, 29464, 31650, 32302, 32470, 36865, 42863, 47425, 49870, 50254, 50258, 50360, 50361, 50362], 'begin_suppress_tokens': [220, 50257]}\n",
      "Special tokens have been added in the vocabulary, make sure the associated word embeddings are fine-tuned or trained.\n",
      "Special tokens have been added in the vocabulary, make sure the associated word embeddings are fine-tuned or trained.\n",
      "Creating dynamic quantizer: QOperator (mode: IntegerOps, schema: u8/s8, channel-wise: False)\n"
     ]
    },
    {
     "name": "stdout",
     "output_type": "stream",
     "text": [
      "quantized  <optimum.onnxruntime.quantization.ORTQuantizer object at 0x7ed4ffe90820>\n"
     ]
    },
    {
     "name": "stderr",
     "output_type": "stream",
     "text": [
      "Quantizing model...\n",
      "Saving quantized model at: /home/carol/mp/quantize/small-sym (external data format: False)\n",
      "Configuration saved in /home/carol/mp/quantize/small-sym/ort_config.json\n",
      "Some non-default generation parameters are set in the model config. These should go into a GenerationConfig file (https://huggingface.co/docs/transformers/generation_strategies#save-a-custom-decoding-strategy-with-your-model) instead. This warning will be raised to an exception in v4.41.\n",
      "Non-default generation parameters: {'max_length': 448, 'suppress_tokens': [1, 2, 7, 8, 9, 10, 14, 25, 26, 27, 28, 29, 31, 58, 59, 60, 61, 62, 63, 90, 91, 92, 93, 359, 503, 522, 542, 873, 893, 902, 918, 922, 931, 1350, 1853, 1982, 2460, 2627, 3246, 3253, 3268, 3536, 3846, 3961, 4183, 4667, 6585, 6647, 7273, 9061, 9383, 10428, 10929, 11938, 12033, 12331, 12562, 13793, 14157, 14635, 15265, 15618, 16553, 16604, 18362, 18956, 20075, 21675, 22520, 26130, 26161, 26435, 28279, 29464, 31650, 32302, 32470, 36865, 42863, 47425, 49870, 50254, 50258, 50360, 50361, 50362], 'begin_suppress_tokens': [220, 50257]}\n",
      "Special tokens have been added in the vocabulary, make sure the associated word embeddings are fine-tuned or trained.\n",
      "Special tokens have been added in the vocabulary, make sure the associated word embeddings are fine-tuned or trained.\n",
      "Creating dynamic quantizer: QOperator (mode: IntegerOps, schema: u8/s8, channel-wise: False)\n"
     ]
    },
    {
     "name": "stdout",
     "output_type": "stream",
     "text": [
      "quantized  <optimum.onnxruntime.quantization.ORTQuantizer object at 0x7ed4ffe90790>\n"
     ]
    },
    {
     "name": "stderr",
     "output_type": "stream",
     "text": [
      "Quantizing model...\n",
      "Saving quantized model at: /home/carol/mp/quantize/small-sym (external data format: False)\n",
      "Configuration saved in /home/carol/mp/quantize/small-sym/ort_config.json\n",
      "Some non-default generation parameters are set in the model config. These should go into a GenerationConfig file (https://huggingface.co/docs/transformers/generation_strategies#save-a-custom-decoding-strategy-with-your-model) instead. This warning will be raised to an exception in v4.41.\n",
      "Non-default generation parameters: {'max_length': 448, 'suppress_tokens': [1, 2, 7, 8, 9, 10, 14, 25, 26, 27, 28, 29, 31, 58, 59, 60, 61, 62, 63, 90, 91, 92, 93, 359, 503, 522, 542, 873, 893, 902, 918, 922, 931, 1350, 1853, 1982, 2460, 2627, 3246, 3253, 3268, 3536, 3846, 3961, 4183, 4667, 6585, 6647, 7273, 9061, 9383, 10428, 10929, 11938, 12033, 12331, 12562, 13793, 14157, 14635, 15265, 15618, 16553, 16604, 18362, 18956, 20075, 21675, 22520, 26130, 26161, 26435, 28279, 29464, 31650, 32302, 32470, 36865, 42863, 47425, 49870, 50254, 50258, 50360, 50361, 50362], 'begin_suppress_tokens': [220, 50257]}\n",
      "Special tokens have been added in the vocabulary, make sure the associated word embeddings are fine-tuned or trained.\n",
      "Special tokens have been added in the vocabulary, make sure the associated word embeddings are fine-tuned or trained.\n"
     ]
    },
    {
     "name": "stdout",
     "output_type": "stream",
     "text": [
      "quantized  <optimum.onnxruntime.quantization.ORTQuantizer object at 0x7ed4f694cfa0>\n",
      "Quantization complete\n"
     ]
    }
   ],
   "source": [
    "quantize_sym(\"/home/carol/mp/quantize/small\",\"/home/carol/mp/quantize/small-sym\")"
   ]
  },
  {
   "cell_type": "code",
   "execution_count": 22,
   "id": "c42b88c9-3e92-45f5-85d6-980be05363c5",
   "metadata": {},
   "outputs": [
    {
     "name": "stderr",
     "output_type": "stream",
     "text": [
      "Creating dynamic quantizer: QOperator (mode: IntegerOps, schema: u8/s8, channel-wise: False)\n",
      "Quantizing model...\n",
      "Saving quantized model at: /home/carol/mp/quantize/small-asym (external data format: False)\n",
      "Configuration saved in /home/carol/mp/quantize/small-asym/ort_config.json\n",
      "Some non-default generation parameters are set in the model config. These should go into a GenerationConfig file (https://huggingface.co/docs/transformers/generation_strategies#save-a-custom-decoding-strategy-with-your-model) instead. This warning will be raised to an exception in v4.41.\n",
      "Non-default generation parameters: {'max_length': 448, 'suppress_tokens': [1, 2, 7, 8, 9, 10, 14, 25, 26, 27, 28, 29, 31, 58, 59, 60, 61, 62, 63, 90, 91, 92, 93, 359, 503, 522, 542, 873, 893, 902, 918, 922, 931, 1350, 1853, 1982, 2460, 2627, 3246, 3253, 3268, 3536, 3846, 3961, 4183, 4667, 6585, 6647, 7273, 9061, 9383, 10428, 10929, 11938, 12033, 12331, 12562, 13793, 14157, 14635, 15265, 15618, 16553, 16604, 18362, 18956, 20075, 21675, 22520, 26130, 26161, 26435, 28279, 29464, 31650, 32302, 32470, 36865, 42863, 47425, 49870, 50254, 50258, 50360, 50361, 50362], 'begin_suppress_tokens': [220, 50257]}\n",
      "Special tokens have been added in the vocabulary, make sure the associated word embeddings are fine-tuned or trained.\n",
      "Special tokens have been added in the vocabulary, make sure the associated word embeddings are fine-tuned or trained.\n",
      "Creating dynamic quantizer: QOperator (mode: IntegerOps, schema: u8/s8, channel-wise: False)\n"
     ]
    },
    {
     "name": "stdout",
     "output_type": "stream",
     "text": [
      "quantized  <optimum.onnxruntime.quantization.ORTQuantizer object at 0x7ed500218d00>\n"
     ]
    },
    {
     "name": "stderr",
     "output_type": "stream",
     "text": [
      "Quantizing model...\n",
      "Saving quantized model at: /home/carol/mp/quantize/small-asym (external data format: False)\n",
      "Configuration saved in /home/carol/mp/quantize/small-asym/ort_config.json\n",
      "Some non-default generation parameters are set in the model config. These should go into a GenerationConfig file (https://huggingface.co/docs/transformers/generation_strategies#save-a-custom-decoding-strategy-with-your-model) instead. This warning will be raised to an exception in v4.41.\n",
      "Non-default generation parameters: {'max_length': 448, 'suppress_tokens': [1, 2, 7, 8, 9, 10, 14, 25, 26, 27, 28, 29, 31, 58, 59, 60, 61, 62, 63, 90, 91, 92, 93, 359, 503, 522, 542, 873, 893, 902, 918, 922, 931, 1350, 1853, 1982, 2460, 2627, 3246, 3253, 3268, 3536, 3846, 3961, 4183, 4667, 6585, 6647, 7273, 9061, 9383, 10428, 10929, 11938, 12033, 12331, 12562, 13793, 14157, 14635, 15265, 15618, 16553, 16604, 18362, 18956, 20075, 21675, 22520, 26130, 26161, 26435, 28279, 29464, 31650, 32302, 32470, 36865, 42863, 47425, 49870, 50254, 50258, 50360, 50361, 50362], 'begin_suppress_tokens': [220, 50257]}\n",
      "Special tokens have been added in the vocabulary, make sure the associated word embeddings are fine-tuned or trained.\n",
      "Special tokens have been added in the vocabulary, make sure the associated word embeddings are fine-tuned or trained.\n",
      "Creating dynamic quantizer: QOperator (mode: IntegerOps, schema: u8/s8, channel-wise: False)\n"
     ]
    },
    {
     "name": "stdout",
     "output_type": "stream",
     "text": [
      "quantized  <optimum.onnxruntime.quantization.ORTQuantizer object at 0x7ed500218ca0>\n"
     ]
    },
    {
     "name": "stderr",
     "output_type": "stream",
     "text": [
      "Quantizing model...\n",
      "Saving quantized model at: /home/carol/mp/quantize/small-asym (external data format: False)\n",
      "Configuration saved in /home/carol/mp/quantize/small-asym/ort_config.json\n",
      "Some non-default generation parameters are set in the model config. These should go into a GenerationConfig file (https://huggingface.co/docs/transformers/generation_strategies#save-a-custom-decoding-strategy-with-your-model) instead. This warning will be raised to an exception in v4.41.\n",
      "Non-default generation parameters: {'max_length': 448, 'suppress_tokens': [1, 2, 7, 8, 9, 10, 14, 25, 26, 27, 28, 29, 31, 58, 59, 60, 61, 62, 63, 90, 91, 92, 93, 359, 503, 522, 542, 873, 893, 902, 918, 922, 931, 1350, 1853, 1982, 2460, 2627, 3246, 3253, 3268, 3536, 3846, 3961, 4183, 4667, 6585, 6647, 7273, 9061, 9383, 10428, 10929, 11938, 12033, 12331, 12562, 13793, 14157, 14635, 15265, 15618, 16553, 16604, 18362, 18956, 20075, 21675, 22520, 26130, 26161, 26435, 28279, 29464, 31650, 32302, 32470, 36865, 42863, 47425, 49870, 50254, 50258, 50360, 50361, 50362], 'begin_suppress_tokens': [220, 50257]}\n",
      "Special tokens have been added in the vocabulary, make sure the associated word embeddings are fine-tuned or trained.\n",
      "Special tokens have been added in the vocabulary, make sure the associated word embeddings are fine-tuned or trained.\n"
     ]
    },
    {
     "name": "stdout",
     "output_type": "stream",
     "text": [
      "quantized  <optimum.onnxruntime.quantization.ORTQuantizer object at 0x7ed4f694d5a0>\n",
      "Quantization complete\n"
     ]
    }
   ],
   "source": [
    "quantize_asym(\"/home/carol/mp/quantize/small\",\"/home/carol/mp/quantize/small-asym\")"
   ]
  },
  {
   "cell_type": "markdown",
   "id": "d26c788d-8dd4-4024-8880-a88b5f3b8dc4",
   "metadata": {},
   "source": [
    "\n",
    "\n",
    "\n",
    "\n",
    "# Inference on ONNX models\n",
    "\n"
   ]
  },
  {
   "cell_type": "code",
   "execution_count": 43,
   "id": "06606019-b5eb-4f40-a950-d872512f9de0",
   "metadata": {},
   "outputs": [],
   "source": [
    "import os\n",
    "import librosa\n",
    "import time\n",
    "from transformers import WhisperProcessor, AutoConfig\n",
    "from optimum.onnxruntime import ORTModelForSpeechSeq2Seq\n",
    "\n",
    "def run(model_name, audio):\n",
    "    \n",
    "    #define odel path\n",
    "    model_path = os.path.join(\"/home/carol/mp/quantize\", model_name)\n",
    "    # Load the model and processor\n",
    "    processor = WhisperProcessor.from_pretrained(model_name)\n",
    "    model_config = AutoConfig.from_pretrained(model_name)\n",
    "    sessions = ORTModelForSpeechSeq2Seq.load_model(\n",
    "                os.path.join(model_path, 'encoder_model.onnx'),\n",
    "                os.path.join(model_path, 'decoder_model.onnx'),\n",
    "                os.path.join(model_path, 'decoder_with_past_model.onnx'))\n",
    "    model = ORTModelForSpeechSeq2Seq(sessions[0], sessions[1], model_config, model_path, sessions[2])\n",
    "\n",
    "    # Load the audio file\n",
    "    audio_data, sample_rate = librosa.load(audio, sr=16000, mono=True)\n",
    "\n",
    "    # Preprocess the audio\n",
    "    input_features = processor(audio_data, sampling_rate=sample_rate, return_tensors=\"pt\").input_features\n",
    "    forced_decoder_ids = processor.get_decoder_prompt_ids(language=\"english\",task=\"translate\")\n",
    "    \n",
    "    # Measure the time taken for inference\n",
    "    start_time = time.time()\n",
    "    predicted_ids = model.generate(input_features,forced_decoder_ids=forced_decoder_ids)[0]\n",
    "    # Generate transcription\n",
    "    transcription = processor.decode(predicted_ids, skip_special_tokens=True)\n",
    "    inference_time = time.time() - start_time\n",
    "\n",
    "     # model size\n",
    "    total_size = 0\n",
    "    for dirpath, dirnames, filenames in os.walk(model_path):\n",
    "        for f in filenames:\n",
    "            fp = os.path.join(dirpath, f)\n",
    "            total_size += os.path.getsize(fp)\n",
    "    size = total_size / (1024 * 1024)  # Convert to MB\n",
    "\n",
    "    print()\n",
    "    print(\"Model name = \",model_name)\n",
    "    print()\n",
    "    print(transcription)\n",
    "    print()\n",
    "    print(\"Inference Time = \",inference_time)\n",
    "    print(\"Model size = \",size) \n",
    "    "
   ]
  },
  {
   "cell_type": "code",
   "execution_count": 44,
   "id": "f3189d93-0e51-440b-b43d-a1accd61e94e",
   "metadata": {},
   "outputs": [
    {
     "name": "stderr",
     "output_type": "stream",
     "text": [
      "Special tokens have been added in the vocabulary, make sure the associated word embeddings are fine-tuned or trained.\n"
     ]
    },
    {
     "name": "stdout",
     "output_type": "stream",
     "text": [
      "\n",
      "Model name =  small\n",
      "\n",
      " Harvard List number one. The birch canoe slid on the smooth planks. Glue the sheet to the dark blue background. It's easy to tell the depth of a well. These days a chicken leg is a rare dish.\n",
      "\n",
      "Inference Time =  5.237896919250488\n",
      "Model size =  1763.2071237564087\n"
     ]
    }
   ],
   "source": [
    "run(\"small\",\"sample.wav\")"
   ]
  },
  {
   "cell_type": "code",
   "execution_count": 45,
   "id": "d29ef494-884c-4d5d-bde0-a1e4d8f0c3d3",
   "metadata": {},
   "outputs": [
    {
     "name": "stderr",
     "output_type": "stream",
     "text": [
      "Special tokens have been added in the vocabulary, make sure the associated word embeddings are fine-tuned or trained.\n"
     ]
    },
    {
     "name": "stdout",
     "output_type": "stream",
     "text": [
      "\n",
      "Model name =  tiny\n",
      "\n",
      " Harvard List Number One The Birch can use slid on the smooth planks. Do the sheet to the dark blue background. It's easy to tell the depth of a well. These days a chicken leg is a rare dish.\n",
      "\n",
      "Inference Time =  0.8733940124511719\n",
      "Model size =  408.8020076751709\n"
     ]
    }
   ],
   "source": [
    "run(\"tiny\",\"sample.wav\")"
   ]
  },
  {
   "cell_type": "markdown",
   "id": "e9330fc0-a2fa-4012-8dbe-d685e8bf0901",
   "metadata": {},
   "source": [
    "# Quantize-arm"
   ]
  },
  {
   "cell_type": "code",
   "execution_count": 52,
   "id": "a8ed0dec-5328-4c44-bbcd-9c3acda196ce",
   "metadata": {},
   "outputs": [
    {
     "name": "stderr",
     "output_type": "stream",
     "text": [
      "Creating dynamic quantizer: QOperator (mode: IntegerOps, schema: u8/s8, channel-wise: False)\n",
      "Quantizing model...\n",
      "Saving quantized model at: /home/carol/mp/quantize/q-tiny-arm (external data format: False)\n",
      "Configuration saved in /home/carol/mp/quantize/q-tiny-arm/ort_config.json\n",
      "Some non-default generation parameters are set in the model config. These should go into a GenerationConfig file (https://huggingface.co/docs/transformers/generation_strategies#save-a-custom-decoding-strategy-with-your-model) instead. This warning will be raised to an exception in v4.41.\n",
      "Non-default generation parameters: {'max_length': 448, 'suppress_tokens': [1, 2, 7, 8, 9, 10, 14, 25, 26, 27, 28, 29, 31, 58, 59, 60, 61, 62, 63, 90, 91, 92, 93, 359, 503, 522, 542, 873, 893, 902, 918, 922, 931, 1350, 1853, 1982, 2460, 2627, 3246, 3253, 3268, 3536, 3846, 3961, 4183, 4667, 6585, 6647, 7273, 9061, 9383, 10428, 10929, 11938, 12033, 12331, 12562, 13793, 14157, 14635, 15265, 15618, 16553, 16604, 18362, 18956, 20075, 21675, 22520, 26130, 26161, 26435, 28279, 29464, 31650, 32302, 32470, 36865, 42863, 47425, 49870, 50254, 50258, 50358, 50359, 50360, 50361, 50362], 'begin_suppress_tokens': [220, 50257]}\n",
      "Special tokens have been added in the vocabulary, make sure the associated word embeddings are fine-tuned or trained.\n",
      "Special tokens have been added in the vocabulary, make sure the associated word embeddings are fine-tuned or trained.\n",
      "Creating dynamic quantizer: QOperator (mode: IntegerOps, schema: u8/s8, channel-wise: False)\n"
     ]
    },
    {
     "name": "stdout",
     "output_type": "stream",
     "text": [
      "quantized  <optimum.onnxruntime.quantization.ORTQuantizer object at 0x7ed4fe3bdc60>\n"
     ]
    },
    {
     "name": "stderr",
     "output_type": "stream",
     "text": [
      "Quantizing model...\n",
      "Saving quantized model at: /home/carol/mp/quantize/q-tiny-arm (external data format: False)\n",
      "Configuration saved in /home/carol/mp/quantize/q-tiny-arm/ort_config.json\n",
      "Some non-default generation parameters are set in the model config. These should go into a GenerationConfig file (https://huggingface.co/docs/transformers/generation_strategies#save-a-custom-decoding-strategy-with-your-model) instead. This warning will be raised to an exception in v4.41.\n",
      "Non-default generation parameters: {'max_length': 448, 'suppress_tokens': [1, 2, 7, 8, 9, 10, 14, 25, 26, 27, 28, 29, 31, 58, 59, 60, 61, 62, 63, 90, 91, 92, 93, 359, 503, 522, 542, 873, 893, 902, 918, 922, 931, 1350, 1853, 1982, 2460, 2627, 3246, 3253, 3268, 3536, 3846, 3961, 4183, 4667, 6585, 6647, 7273, 9061, 9383, 10428, 10929, 11938, 12033, 12331, 12562, 13793, 14157, 14635, 15265, 15618, 16553, 16604, 18362, 18956, 20075, 21675, 22520, 26130, 26161, 26435, 28279, 29464, 31650, 32302, 32470, 36865, 42863, 47425, 49870, 50254, 50258, 50358, 50359, 50360, 50361, 50362], 'begin_suppress_tokens': [220, 50257]}\n",
      "Special tokens have been added in the vocabulary, make sure the associated word embeddings are fine-tuned or trained.\n",
      "Special tokens have been added in the vocabulary, make sure the associated word embeddings are fine-tuned or trained.\n",
      "Creating dynamic quantizer: QOperator (mode: IntegerOps, schema: u8/s8, channel-wise: False)\n"
     ]
    },
    {
     "name": "stdout",
     "output_type": "stream",
     "text": [
      "quantized  <optimum.onnxruntime.quantization.ORTQuantizer object at 0x7ed4fe3bf9d0>\n"
     ]
    },
    {
     "name": "stderr",
     "output_type": "stream",
     "text": [
      "Quantizing model...\n",
      "Saving quantized model at: /home/carol/mp/quantize/q-tiny-arm (external data format: False)\n",
      "Configuration saved in /home/carol/mp/quantize/q-tiny-arm/ort_config.json\n",
      "Some non-default generation parameters are set in the model config. These should go into a GenerationConfig file (https://huggingface.co/docs/transformers/generation_strategies#save-a-custom-decoding-strategy-with-your-model) instead. This warning will be raised to an exception in v4.41.\n",
      "Non-default generation parameters: {'max_length': 448, 'suppress_tokens': [1, 2, 7, 8, 9, 10, 14, 25, 26, 27, 28, 29, 31, 58, 59, 60, 61, 62, 63, 90, 91, 92, 93, 359, 503, 522, 542, 873, 893, 902, 918, 922, 931, 1350, 1853, 1982, 2460, 2627, 3246, 3253, 3268, 3536, 3846, 3961, 4183, 4667, 6585, 6647, 7273, 9061, 9383, 10428, 10929, 11938, 12033, 12331, 12562, 13793, 14157, 14635, 15265, 15618, 16553, 16604, 18362, 18956, 20075, 21675, 22520, 26130, 26161, 26435, 28279, 29464, 31650, 32302, 32470, 36865, 42863, 47425, 49870, 50254, 50258, 50358, 50359, 50360, 50361, 50362], 'begin_suppress_tokens': [220, 50257]}\n",
      "Special tokens have been added in the vocabulary, make sure the associated word embeddings are fine-tuned or trained.\n",
      "Special tokens have been added in the vocabulary, make sure the associated word embeddings are fine-tuned or trained.\n"
     ]
    },
    {
     "name": "stdout",
     "output_type": "stream",
     "text": [
      "quantized  <optimum.onnxruntime.quantization.ORTQuantizer object at 0x7ed4e53511b0>\n",
      "Quantization complete\n"
     ]
    }
   ],
   "source": [
    "quantize_arm(\"/home/carol/mp/quantize/tiny\",\"/home/carol/mp/quantize/q-tiny-arm\")"
   ]
  },
  {
   "cell_type": "code",
   "execution_count": null,
   "id": "538e77fa-5c07-437e-9775-d800014b28c0",
   "metadata": {},
   "outputs": [],
   "source": []
  }
 ],
 "metadata": {
  "kernelspec": {
   "display_name": "intel",
   "language": "python",
   "name": "intel"
  },
  "language_info": {
   "codemirror_mode": {
    "name": "ipython",
    "version": 3
   },
   "file_extension": ".py",
   "mimetype": "text/x-python",
   "name": "python",
   "nbconvert_exporter": "python",
   "pygments_lexer": "ipython3",
   "version": "3.10.12"
  }
 },
 "nbformat": 4,
 "nbformat_minor": 5
}
