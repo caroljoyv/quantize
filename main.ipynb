{
 "cells": [
  {
   "cell_type": "code",
   "execution_count": null,
   "id": "44a5a2c1-0233-4398-835a-2325710796a9",
   "metadata": {},
   "outputs": [],
   "source": [
    "# exporting models by optimum-cli\n",
    "!optimum-cli export onnx --model openai/whisper-tiny whisper-tiny-with-past/ --task automatic-speech-recognition-with-past --opset 13\n"
   ]
  },
  {
   "cell_type": "markdown",
   "id": "69527c24-eccb-4b1d-a803-496448026a72",
   "metadata": {},
   "source": [
    "# Export and save model to onnx"
   ]
  },
  {
   "cell_type": "code",
   "execution_count": 1,
   "id": "a350dd18-6eab-4c20-b49e-e76ba8d72946",
   "metadata": {},
   "outputs": [
    {
     "name": "stderr",
     "output_type": "stream",
     "text": [
      "/home/carol/mp/quantize/intel/lib/python3.10/site-packages/tqdm/auto.py:21: TqdmWarning: IProgress not found. Please update jupyter and ipywidgets. See https://ipywidgets.readthedocs.io/en/stable/user_install.html\n",
      "  from .autonotebook import tqdm as notebook_tqdm\n"
     ]
    }
   ],
   "source": [
    "import os\n",
    "import time\n",
    "import shutil\n",
    "from evaluate import load\n",
    "from datasets import load_dataset\n",
    "from transformers import WhisperForConditionalGeneration, WhisperProcessor, AutoConfig\n",
    "from optimum.onnxruntime import ORTModelForSpeechSeq2Seq\n",
    "from transformers import PretrainedConfig\n",
    "import librosa\n",
    "import numpy as np"
   ]
  },
  {
   "cell_type": "code",
   "execution_count": 2,
   "id": "527fadbf-2c4d-4858-92cd-942823e3602a",
   "metadata": {},
   "outputs": [],
   "source": [
    "# Export model in ONNX\n",
    "def export_onnx(model_id, save_dir):\n",
    "    model = ORTModelForSpeechSeq2Seq.from_pretrained(model_id, export=True)\n",
    "    model_dir = model.model_save_dir\n",
    "    shutil.move(model_dir, save_dir)\n",
    "    print(\"Model exported to onnx and saved at location \", save_dir)"
   ]
  },
  {
   "cell_type": "code",
   "execution_count": 12,
   "id": "c7df1128-2bd3-4d22-a37d-71980d111af5",
   "metadata": {},
   "outputs": [
    {
     "name": "stderr",
     "output_type": "stream",
     "text": [
      "Framework not specified. Using pt to export the model.\n",
      "Special tokens have been added in the vocabulary, make sure the associated word embeddings are fine-tuned or trained.\n",
      "Special tokens have been added in the vocabulary, make sure the associated word embeddings are fine-tuned or trained.\n",
      "Using the export variant default. Available variants are:\n",
      "    - default: The default ONNX variant.\n",
      "Some non-default generation parameters are set in the model config. These should go into a GenerationConfig file (https://huggingface.co/docs/transformers/generation_strategies#save-a-custom-decoding-strategy-with-your-model) instead. This warning will be raised to an exception in v4.41.\n",
      "Non-default generation parameters: {'max_length': 448, 'suppress_tokens': [1, 2, 7, 8, 9, 10, 14, 25, 26, 27, 28, 29, 31, 58, 59, 60, 61, 62, 63, 90, 91, 92, 93, 359, 503, 522, 542, 873, 893, 902, 918, 922, 931, 1350, 1853, 1982, 2460, 2627, 3246, 3253, 3268, 3536, 3846, 3961, 4183, 4667, 6585, 6647, 7273, 9061, 9383, 10428, 10929, 11938, 12033, 12331, 12562, 13793, 14157, 14635, 15265, 15618, 16553, 16604, 18362, 18956, 20075, 21675, 22520, 26130, 26161, 26435, 28279, 29464, 31650, 32302, 32470, 36865, 42863, 47425, 49870, 50254, 50258, 50360, 50361, 50362], 'begin_suppress_tokens': [220, 50257]}\n",
      "Special tokens have been added in the vocabulary, make sure the associated word embeddings are fine-tuned or trained.\n",
      "Special tokens have been added in the vocabulary, make sure the associated word embeddings are fine-tuned or trained.\n",
      "Using framework PyTorch: 2.2.1+cu121\n",
      "Overriding 1 configuration item(s)\n",
      "\t- use_cache -> False\n",
      "/home/carol/mp/quantize/intel/lib/python3.10/site-packages/transformers/models/whisper/modeling_whisper.py:1165: TracerWarning: Converting a tensor to a Python boolean might cause the trace to be incorrect. We can't record the data flow of Python values, so this value will be treated as a constant in the future. This means that the trace might not generalize to other inputs!\n",
      "  if input_features.shape[-1] != expected_seq_length:\n",
      "/home/carol/mp/quantize/intel/lib/python3.10/site-packages/transformers/models/whisper/modeling_whisper.py:344: TracerWarning: Converting a tensor to a Python boolean might cause the trace to be incorrect. We can't record the data flow of Python values, so this value will be treated as a constant in the future. This means that the trace might not generalize to other inputs!\n",
      "  if attn_weights.size() != (bsz * self.num_heads, tgt_len, src_len):\n",
      "/home/carol/mp/quantize/intel/lib/python3.10/site-packages/transformers/models/whisper/modeling_whisper.py:383: TracerWarning: Converting a tensor to a Python boolean might cause the trace to be incorrect. We can't record the data flow of Python values, so this value will be treated as a constant in the future. This means that the trace might not generalize to other inputs!\n",
      "  if attn_output.size() != (bsz * self.num_heads, tgt_len, self.head_dim):\n",
      "Using framework PyTorch: 2.2.1+cu121\n",
      "Overriding 1 configuration item(s)\n",
      "\t- use_cache -> True\n",
      "/home/carol/mp/quantize/intel/lib/python3.10/site-packages/transformers/modeling_attn_mask_utils.py:86: TracerWarning: Converting a tensor to a Python boolean might cause the trace to be incorrect. We can't record the data flow of Python values, so this value will be treated as a constant in the future. This means that the trace might not generalize to other inputs!\n",
      "  if input_shape[-1] > 1 or self.sliding_window is not None:\n",
      "/home/carol/mp/quantize/intel/lib/python3.10/site-packages/transformers/modeling_attn_mask_utils.py:162: TracerWarning: Converting a tensor to a Python boolean might cause the trace to be incorrect. We can't record the data flow of Python values, so this value will be treated as a constant in the future. This means that the trace might not generalize to other inputs!\n",
      "  if past_key_values_length > 0:\n",
      "/home/carol/mp/quantize/intel/lib/python3.10/site-packages/transformers/models/whisper/modeling_whisper.py:351: TracerWarning: Converting a tensor to a Python boolean might cause the trace to be incorrect. We can't record the data flow of Python values, so this value will be treated as a constant in the future. This means that the trace might not generalize to other inputs!\n",
      "  if attention_mask.size() != (bsz, 1, tgt_len, src_len):\n",
      "Using framework PyTorch: 2.2.1+cu121\n",
      "Overriding 1 configuration item(s)\n",
      "\t- use_cache -> True\n",
      "/home/carol/mp/quantize/intel/lib/python3.10/site-packages/transformers/models/whisper/modeling_whisper.py:306: TracerWarning: Converting a tensor to a Python boolean might cause the trace to be incorrect. We can't record the data flow of Python values, so this value will be treated as a constant in the future. This means that the trace might not generalize to other inputs!\n",
      "  and past_key_value[0].shape[2] == key_value_states.shape[1]\n",
      "Some non-default generation parameters are set in the model config. These should go into a GenerationConfig file (https://huggingface.co/docs/transformers/generation_strategies#save-a-custom-decoding-strategy-with-your-model) instead. This warning will be raised to an exception in v4.41.\n",
      "Non-default generation parameters: {'max_length': 448, 'suppress_tokens': [1, 2, 7, 8, 9, 10, 14, 25, 26, 27, 28, 29, 31, 58, 59, 60, 61, 62, 63, 90, 91, 92, 93, 359, 503, 522, 542, 873, 893, 902, 918, 922, 931, 1350, 1853, 1982, 2460, 2627, 3246, 3253, 3268, 3536, 3846, 3961, 4183, 4667, 6585, 6647, 7273, 9061, 9383, 10428, 10929, 11938, 12033, 12331, 12562, 13793, 14157, 14635, 15265, 15618, 16553, 16604, 18362, 18956, 20075, 21675, 22520, 26130, 26161, 26435, 28279, 29464, 31650, 32302, 32470, 36865, 42863, 47425, 49870, 50254, 50258, 50360, 50361, 50362], 'begin_suppress_tokens': [220, 50257]}\n",
      "Special tokens have been added in the vocabulary, make sure the associated word embeddings are fine-tuned or trained.\n",
      "Special tokens have been added in the vocabulary, make sure the associated word embeddings are fine-tuned or trained.\n",
      "Special tokens have been added in the vocabulary, make sure the associated word embeddings are fine-tuned or trained.\n",
      "Special tokens have been added in the vocabulary, make sure the associated word embeddings are fine-tuned or trained.\n"
     ]
    },
    {
     "name": "stdout",
     "output_type": "stream",
     "text": [
      "Model exported to onnx and saved at location  /home/carol/mp/quantize/small-whisper\n"
     ]
    }
   ],
   "source": [
    "# export whisper-small\n",
    "export_onnx(\"openai/whisper-small\",\"/home/carol/mp/quantize/small-whisper\")"
   ]
  },
  {
   "cell_type": "code",
   "execution_count": null,
   "id": "6c8d8c0c-affa-45e9-9256-aa9f2875e97c",
   "metadata": {},
   "outputs": [],
   "source": [
    "#export whisper-tiny\n",
    "export_onnx(\"openai/whisper-tiny\",\"/home/carol/mp/quantize/tiny-whisper\")"
   ]
  },
  {
   "cell_type": "markdown",
   "id": "d26c788d-8dd4-4024-8880-a88b5f3b8dc4",
   "metadata": {},
   "source": [
    "\n",
    "\n",
    "\n",
    "\n",
    "# Inference on ONNX models\n",
    "\n"
   ]
  },
  {
   "cell_type": "code",
   "execution_count": 13,
   "id": "06606019-b5eb-4f40-a950-d872512f9de0",
   "metadata": {},
   "outputs": [],
   "source": [
    "def run(model_name, audio):\n",
    "    \n",
    "    #define odel path\n",
    "    model_path = os.path.join(\"/home/carol/mp/quantize\", model_name)\n",
    "    # Load the model and processor\n",
    "    processor = WhisperProcessor.from_pretrained(model_name)\n",
    "    model_config = AutoConfig.from_pretrained(model_name)\n",
    "    sessions = ORTModelForSpeechSeq2Seq.load_model(\n",
    "                os.path.join(model_path, 'encoder_model.onnx'),\n",
    "                os.path.join(model_path, 'decoder_model.onnx'),\n",
    "                os.path.join(model_path, 'decoder_with_past_model.onnx'))\n",
    "    model = ORTModelForSpeechSeq2Seq(sessions[0], sessions[1], model_config, model_path, sessions[2])\n",
    "\n",
    "    # Load the audio file\n",
    "    audio_data, sample_rate = librosa.load(audio, sr=16000, mono=True)\n",
    "\n",
    "    # Preprocess the audio\n",
    "    input_features = processor(audio_data, sampling_rate=sample_rate, return_tensors=\"pt\").input_features\n",
    "    forced_decoder_ids = processor.get_decoder_prompt_ids(language=\"malayalam\", task=\"translate\")\n",
    "    \n",
    "    # Measure the time taken for inference\n",
    "    start_time = time.time()\n",
    "    predicted_ids = model.generate(input_features,forced_decoder_ids=forced_decoder_ids)[0]\n",
    "    # Generate transcription\n",
    "    transcription = processor.decode(predicted_ids, skip_special_tokens=True)\n",
    "    inference_time = time.time() - start_time\n",
    "\n",
    "     # model size\n",
    "    total_size = 0\n",
    "    for dirpath, dirnames, filenames in os.walk(model_path):\n",
    "        for f in filenames:\n",
    "            fp = os.path.join(dirpath, f)\n",
    "            total_size += os.path.getsize(fp)\n",
    "    size = total_size / (1024 * 1024)  # Convert to MB\n",
    "\n",
    "    print()\n",
    "    print(\"Model name = \",model_name)\n",
    "    print()\n",
    "    print(transcription)\n",
    "    print()\n",
    "    print(\"Inference Time = \",inference_time)\n",
    "    print(\"Model size = \",size) \n",
    "    "
   ]
  },
  {
   "cell_type": "code",
   "execution_count": 14,
   "id": "3d273db4-3ec8-41af-a3ab-b65879876092",
   "metadata": {},
   "outputs": [
    {
     "name": "stderr",
     "output_type": "stream",
     "text": [
      "Special tokens have been added in the vocabulary, make sure the associated word embeddings are fine-tuned or trained.\n"
     ]
    },
    {
     "name": "stdout",
     "output_type": "stream",
     "text": [
      "\n",
      "Model name =  small-whisper\n",
      "\n",
      " Harvard List number one. The birch canoe slid on the smooth planks. Glue the sheet to the dark blue background. It's easy to tell the depth of a well. These days a chicken leg is a rare dish.\n",
      "\n",
      "Inference Time =  7.355425596237183\n",
      "Model size =  1763.2071237564087\n"
     ]
    }
   ],
   "source": [
    "run(\"small-whisper\",\"sample.wav\")"
   ]
  },
  {
   "cell_type": "code",
   "execution_count": 16,
   "id": "f3189d93-0e51-440b-b43d-a1accd61e94e",
   "metadata": {},
   "outputs": [
    {
     "name": "stderr",
     "output_type": "stream",
     "text": [
      "Special tokens have been added in the vocabulary, make sure the associated word embeddings are fine-tuned or trained.\n"
     ]
    },
    {
     "name": "stdout",
     "output_type": "stream",
     "text": [
      "\n",
      "Model name =  tiny-whisper\n",
      "\n",
      " Harvard List Number One The Birch can use lid on the smooth planks. Do the sheet to the dark blue background. It's easy to tell the depth of a well. These days a chicken leg is a rare dish.\n",
      "\n",
      "Inference Time =  0.9543247222900391\n",
      "Model size =  408.8020076751709\n"
     ]
    }
   ],
   "source": [
    "run(\"tiny-whisper\",\"sample.wav\")"
   ]
  },
  {
   "cell_type": "code",
   "execution_count": 17,
   "id": "398e6635-7e00-45fb-b0ad-cc932a6dc25e",
   "metadata": {},
   "outputs": [
    {
     "name": "stderr",
     "output_type": "stream",
     "text": [
      "Special tokens have been added in the vocabulary, make sure the associated word embeddings are fine-tuned or trained.\n"
     ]
    },
    {
     "name": "stdout",
     "output_type": "stream",
     "text": [
      "\n",
      "Model name =  small_quantized\n",
      "\n",
      " Harvard List Number One The Birch Canoe slid on the smooth planks. Glue the sheet to the dark blue background. It's easy to tell the depth of a well. These days a chicken leg is a rare dish.\n",
      "\n",
      "Inference Time =  5.890881299972534\n",
      "Model size =  457.8302402496338\n"
     ]
    }
   ],
   "source": [
    "run(\"small_quantized\",\"sample.wav\")"
   ]
  },
  {
   "cell_type": "code",
   "execution_count": 18,
   "id": "1264eaba-4088-4683-ac49-d9eec1529f6c",
   "metadata": {},
   "outputs": [
    {
     "name": "stderr",
     "output_type": "stream",
     "text": [
      "Special tokens have been added in the vocabulary, make sure the associated word embeddings are fine-tuned or trained.\n"
     ]
    },
    {
     "name": "stdout",
     "output_type": "stream",
     "text": [
      "\n",
      "Model name =  tiny_quantized\n",
      "\n",
      " Harvard List Number One The Birch Knows lid on the smooth planks.\n",
      "\n",
      "Inference Time =  0.5709211826324463\n",
      "Model size =  110.3315486907959\n"
     ]
    }
   ],
   "source": [
    "run(\"tiny_quantized\",\"sample.wav\")"
   ]
  },
  {
   "cell_type": "code",
   "execution_count": null,
   "id": "85bf0620-ff16-4016-8ccc-f695a0bf2453",
   "metadata": {},
   "outputs": [],
   "source": []
  }
 ],
 "metadata": {
  "kernelspec": {
   "display_name": "intel",
   "language": "python",
   "name": "intel"
  },
  "language_info": {
   "codemirror_mode": {
    "name": "ipython",
    "version": 3
   },
   "file_extension": ".py",
   "mimetype": "text/x-python",
   "name": "python",
   "nbconvert_exporter": "python",
   "pygments_lexer": "ipython3",
   "version": "3.10.12"
  }
 },
 "nbformat": 4,
 "nbformat_minor": 5
}
