{
 "cells": [
  {
   "cell_type": "code",
   "execution_count": null,
   "id": "44a5a2c1-0233-4398-835a-2325710796a9",
   "metadata": {},
   "outputs": [],
   "source": [
    "# exporting models by optimum-cli\n",
    "!optimum-cli export onnx --model openai/whisper-tiny whisper-tiny-with-past/ --task automatic-speech-recognition-with-past --opset 13\n"
   ]
  },
  {
   "cell_type": "markdown",
   "id": "69527c24-eccb-4b1d-a803-496448026a72",
   "metadata": {},
   "source": [
    "# Export and save model to onnx"
   ]
  },
  {
   "cell_type": "code",
   "execution_count": 8,
   "id": "a350dd18-6eab-4c20-b49e-e76ba8d72946",
   "metadata": {},
   "outputs": [],
   "source": [
    "import os\n",
    "import time\n",
    "import shutil\n",
    "from evaluate import load\n",
    "from pathlib import Path\n",
    "from datasets import load_dataset\n",
    "from transformers import WhisperForConditionalGeneration, WhisperProcessor, AutoConfig\n",
    "from optimum.onnxruntime import ORTModelForSpeechSeq2Seq, ORTQuantizer, AutoQuantizationConfig\n",
    "from transformers import PretrainedConfig\n",
    "import librosa\n",
    "import numpy as np"
   ]
  },
  {
   "cell_type": "code",
   "execution_count": null,
   "id": "527fadbf-2c4d-4858-92cd-942823e3602a",
   "metadata": {},
   "outputs": [],
   "source": [
    "# Export model to ONNX\n",
    "def export_onnx(model_id, save_dir):\n",
    "    model = ORTModelForSpeechSeq2Seq.from_pretrained(model_id, export=True)\n",
    "    model_dir = model.model_save_dir\n",
    "    # print(model.get_memory_footprint())\n",
    "        \n",
    "    shutil.move(model_dir, save_dir)\n",
    "    print(\"Model exported to onnx and saved at location \", save_dir)"
   ]
  },
  {
   "cell_type": "code",
   "execution_count": null,
   "id": "c7df1128-2bd3-4d22-a37d-71980d111af5",
   "metadata": {},
   "outputs": [],
   "source": [
    "# export whisper-small\n",
    "export_onnx(\"openai/whisper-small\",\"/home/carol/mp/quantize/small-whisper\")"
   ]
  },
  {
   "cell_type": "code",
   "execution_count": null,
   "id": "6c8d8c0c-affa-45e9-9256-aa9f2875e97c",
   "metadata": {},
   "outputs": [],
   "source": [
    "#export whisper-tiny\n",
    "export_onnx(\"openai/whisper-xxxxx\",\"/home/carol/mp/quantize/xxxxxxxxx\")"
   ]
  },
  {
   "cell_type": "code",
   "execution_count": null,
   "id": "39e758a8-24a5-45cc-b520-297330ca2b4a",
   "metadata": {},
   "outputs": [],
   "source": [
    "#export whisper-base\n",
    "export_onnx(\"openai/whisper-base\",\"/home/carol/mp/quantize/base\")"
   ]
  },
  {
   "cell_type": "markdown",
   "id": "a2c02bd4-aaa0-4f1c-b579-c51d1a7d45a4",
   "metadata": {},
   "source": [
    "# Dynamic Quantization - intel (symmetric weights and activations)"
   ]
  },
  {
   "cell_type": "code",
   "execution_count": 13,
   "id": "13a8b60c-b294-4657-abae-5cf0ac07cddb",
   "metadata": {},
   "outputs": [],
   "source": [
    "from pathlib import Path\n",
    "def quantize_nor(model_dir, save_dir):\n",
    "    \n",
    "    # create list of onnx models from the directory\n",
    "    onnx_models = list(Path(model_dir).glob(\"*.onnx\"))\n",
    "\n",
    "    # instantiate quantizer and set quantization configuration\n",
    "    quantizers = [ORTQuantizer.from_pretrained(model_dir, file_name=onnx_model) for onnx_model in onnx_models]\n",
    "    qconfig = AutoQuantizationConfig.avx512_vnni(is_static=False, per_channel=False,nodes_to_exclude=['/conv1/Conv', '/conv2/Conv'],use_symmetric_activations=True,  \n",
    "        use_symmetric_weights=True,  \n",
    "        operators_to_quantize=None )\n",
    "\n",
    "    for quantizer in quantizers:\n",
    "        # Apply dynamic quantization and save the resulting model\n",
    "        quantizer.quantize(save_dir=save_dir, quantization_config=qconfig)\n",
    "        print(\"quantized \", quantizer)\n",
    "    print(\"Quantization complete\")\n",
    "    "
   ]
  },
  {
   "cell_type": "code",
   "execution_count": 14,
   "id": "c5cea73f-42da-4abe-ab7a-92e824dd8e36",
   "metadata": {},
   "outputs": [
    {
     "name": "stderr",
     "output_type": "stream",
     "text": [
      "Creating dynamic quantizer: QOperator (mode: IntegerOps, schema: u8/s8, channel-wise: False)\n",
      "Quantizing model...\n",
      "Saving quantized model at: /home/carol/mp/quantize/q-small (external data format: False)\n",
      "Configuration saved in /home/carol/mp/quantize/q-small/ort_config.json\n",
      "Some non-default generation parameters are set in the model config. These should go into a GenerationConfig file (https://huggingface.co/docs/transformers/generation_strategies#save-a-custom-decoding-strategy-with-your-model) instead. This warning will be raised to an exception in v4.41.\n",
      "Non-default generation parameters: {'max_length': 448, 'suppress_tokens': [1, 2, 7, 8, 9, 10, 14, 25, 26, 27, 28, 29, 31, 58, 59, 60, 61, 62, 63, 90, 91, 92, 93, 359, 503, 522, 542, 873, 893, 902, 918, 922, 931, 1350, 1853, 1982, 2460, 2627, 3246, 3253, 3268, 3536, 3846, 3961, 4183, 4667, 6585, 6647, 7273, 9061, 9383, 10428, 10929, 11938, 12033, 12331, 12562, 13793, 14157, 14635, 15265, 15618, 16553, 16604, 18362, 18956, 20075, 21675, 22520, 26130, 26161, 26435, 28279, 29464, 31650, 32302, 32470, 36865, 42863, 47425, 49870, 50254, 50258, 50360, 50361, 50362], 'begin_suppress_tokens': [220, 50257]}\n",
      "Special tokens have been added in the vocabulary, make sure the associated word embeddings are fine-tuned or trained.\n",
      "Special tokens have been added in the vocabulary, make sure the associated word embeddings are fine-tuned or trained.\n",
      "Creating dynamic quantizer: QOperator (mode: IntegerOps, schema: u8/s8, channel-wise: False)\n"
     ]
    },
    {
     "name": "stdout",
     "output_type": "stream",
     "text": [
      "quantized  <optimum.onnxruntime.quantization.ORTQuantizer object at 0x7112c8faef20>\n"
     ]
    },
    {
     "name": "stderr",
     "output_type": "stream",
     "text": [
      "Quantizing model...\n",
      "Saving quantized model at: /home/carol/mp/quantize/q-small (external data format: False)\n",
      "Configuration saved in /home/carol/mp/quantize/q-small/ort_config.json\n",
      "Some non-default generation parameters are set in the model config. These should go into a GenerationConfig file (https://huggingface.co/docs/transformers/generation_strategies#save-a-custom-decoding-strategy-with-your-model) instead. This warning will be raised to an exception in v4.41.\n",
      "Non-default generation parameters: {'max_length': 448, 'suppress_tokens': [1, 2, 7, 8, 9, 10, 14, 25, 26, 27, 28, 29, 31, 58, 59, 60, 61, 62, 63, 90, 91, 92, 93, 359, 503, 522, 542, 873, 893, 902, 918, 922, 931, 1350, 1853, 1982, 2460, 2627, 3246, 3253, 3268, 3536, 3846, 3961, 4183, 4667, 6585, 6647, 7273, 9061, 9383, 10428, 10929, 11938, 12033, 12331, 12562, 13793, 14157, 14635, 15265, 15618, 16553, 16604, 18362, 18956, 20075, 21675, 22520, 26130, 26161, 26435, 28279, 29464, 31650, 32302, 32470, 36865, 42863, 47425, 49870, 50254, 50258, 50360, 50361, 50362], 'begin_suppress_tokens': [220, 50257]}\n",
      "Special tokens have been added in the vocabulary, make sure the associated word embeddings are fine-tuned or trained.\n",
      "Special tokens have been added in the vocabulary, make sure the associated word embeddings are fine-tuned or trained.\n",
      "Creating dynamic quantizer: QOperator (mode: IntegerOps, schema: u8/s8, channel-wise: False)\n"
     ]
    },
    {
     "name": "stdout",
     "output_type": "stream",
     "text": [
      "quantized  <optimum.onnxruntime.quantization.ORTQuantizer object at 0x7111977374f0>\n"
     ]
    },
    {
     "name": "stderr",
     "output_type": "stream",
     "text": [
      "Quantizing model...\n",
      "Saving quantized model at: /home/carol/mp/quantize/q-small (external data format: False)\n",
      "Configuration saved in /home/carol/mp/quantize/q-small/ort_config.json\n",
      "Some non-default generation parameters are set in the model config. These should go into a GenerationConfig file (https://huggingface.co/docs/transformers/generation_strategies#save-a-custom-decoding-strategy-with-your-model) instead. This warning will be raised to an exception in v4.41.\n",
      "Non-default generation parameters: {'max_length': 448, 'suppress_tokens': [1, 2, 7, 8, 9, 10, 14, 25, 26, 27, 28, 29, 31, 58, 59, 60, 61, 62, 63, 90, 91, 92, 93, 359, 503, 522, 542, 873, 893, 902, 918, 922, 931, 1350, 1853, 1982, 2460, 2627, 3246, 3253, 3268, 3536, 3846, 3961, 4183, 4667, 6585, 6647, 7273, 9061, 9383, 10428, 10929, 11938, 12033, 12331, 12562, 13793, 14157, 14635, 15265, 15618, 16553, 16604, 18362, 18956, 20075, 21675, 22520, 26130, 26161, 26435, 28279, 29464, 31650, 32302, 32470, 36865, 42863, 47425, 49870, 50254, 50258, 50360, 50361, 50362], 'begin_suppress_tokens': [220, 50257]}\n",
      "Special tokens have been added in the vocabulary, make sure the associated word embeddings are fine-tuned or trained.\n",
      "Special tokens have been added in the vocabulary, make sure the associated word embeddings are fine-tuned or trained.\n"
     ]
    },
    {
     "name": "stdout",
     "output_type": "stream",
     "text": [
      "quantized  <optimum.onnxruntime.quantization.ORTQuantizer object at 0x711196f67a30>\n",
      "Quantization complete\n"
     ]
    }
   ],
   "source": [
    "quantize_nor(\"/home/carol/mp/quantize/small\",\"/home/carol/mp/quantize/q-small\")"
   ]
  },
  {
   "cell_type": "markdown",
   "id": "3f8e0a35-76f8-4677-829a-303d3f1175db",
   "metadata": {},
   "source": [
    "# Dynamic Quantization - arm64"
   ]
  },
  {
   "cell_type": "code",
   "execution_count": 6,
   "id": "f58a2a6a-a6ff-4217-81f0-0d3a053aa4ec",
   "metadata": {},
   "outputs": [],
   "source": [
    "from pathlib import Path\n",
    "def quantize_arm(model_dir, save_dir):\n",
    "    \n",
    "    # create list of onnx models from the directory\n",
    "    onnx_models = list(Path(model_dir).glob(\"*.onnx\"))\n",
    "\n",
    "    # instantiate quantizer and set quantization configuration\n",
    "    quantizers = [ORTQuantizer.from_pretrained(model_dir, file_name=onnx_model) for onnx_model in onnx_models]\n",
    "    qconfig = AutoQuantizationConfig.arm64(is_static=False, per_channel=False,nodes_to_exclude=['/conv1/Conv', '/conv2/Conv'],use_symmetric_activations=True,  \n",
    "        use_symmetric_weights=True,  \n",
    "        operators_to_quantize=None )\n",
    "\n",
    "    for quantizer in quantizers:\n",
    "        # Apply dynamic quantization and save the resulting model\n",
    "        quantizer.quantize(save_dir=save_dir, quantization_config=qconfig)\n",
    "        print(\"quantized \", quantizer)\n",
    "    print(\"Quantization complete\")"
   ]
  },
  {
   "cell_type": "code",
   "execution_count": null,
   "id": "5eac9fa3-15d8-41d1-a1a9-c4b3e83b4e5f",
   "metadata": {},
   "outputs": [],
   "source": [
    "quantize_sym(\"/home/carol/mp/quantize/tiny\",\"/home/carol/mp/quantize/tiny-sym\")"
   ]
  },
  {
   "cell_type": "code",
   "execution_count": null,
   "id": "8b563ec3-3e21-496c-bcf0-7c2560a8bcfd",
   "metadata": {},
   "outputs": [],
   "source": [
    "d_quantize(\"/home/carol/mp/quantize/small-whisper\",\"/home/carol/mp/quantize/q-small\")"
   ]
  },
  {
   "cell_type": "code",
   "execution_count": null,
   "id": "643ee12a-c547-4e2c-90a1-f5804153b5fb",
   "metadata": {},
   "outputs": [],
   "source": [
    "quantize_sym(\"/home/carol/mp/quantize/small\",\"/home/carol/mp/quantize/small-sym\")"
   ]
  },
  {
   "cell_type": "code",
   "execution_count": 9,
   "id": "c42b88c9-3e92-45f5-85d6-980be05363c5",
   "metadata": {},
   "outputs": [
    {
     "name": "stderr",
     "output_type": "stream",
     "text": [
      "Creating dynamic quantizer: QOperator (mode: IntegerOps, schema: u8/s8, channel-wise: False)\n",
      "Quantizing model...\n",
      "Saving quantized model at: /home/carol/mp/quantize/q-small-arm (external data format: False)\n",
      "Configuration saved in /home/carol/mp/quantize/q-small-arm/ort_config.json\n",
      "Some non-default generation parameters are set in the model config. These should go into a GenerationConfig file (https://huggingface.co/docs/transformers/generation_strategies#save-a-custom-decoding-strategy-with-your-model) instead. This warning will be raised to an exception in v4.41.\n",
      "Non-default generation parameters: {'max_length': 448, 'suppress_tokens': [1, 2, 7, 8, 9, 10, 14, 25, 26, 27, 28, 29, 31, 58, 59, 60, 61, 62, 63, 90, 91, 92, 93, 359, 503, 522, 542, 873, 893, 902, 918, 922, 931, 1350, 1853, 1982, 2460, 2627, 3246, 3253, 3268, 3536, 3846, 3961, 4183, 4667, 6585, 6647, 7273, 9061, 9383, 10428, 10929, 11938, 12033, 12331, 12562, 13793, 14157, 14635, 15265, 15618, 16553, 16604, 18362, 18956, 20075, 21675, 22520, 26130, 26161, 26435, 28279, 29464, 31650, 32302, 32470, 36865, 42863, 47425, 49870, 50254, 50258, 50360, 50361, 50362], 'begin_suppress_tokens': [220, 50257]}\n",
      "Special tokens have been added in the vocabulary, make sure the associated word embeddings are fine-tuned or trained.\n",
      "Special tokens have been added in the vocabulary, make sure the associated word embeddings are fine-tuned or trained.\n",
      "Creating dynamic quantizer: QOperator (mode: IntegerOps, schema: u8/s8, channel-wise: False)\n"
     ]
    },
    {
     "name": "stdout",
     "output_type": "stream",
     "text": [
      "quantized  <optimum.onnxruntime.quantization.ORTQuantizer object at 0x7111961a99c0>\n"
     ]
    },
    {
     "name": "stderr",
     "output_type": "stream",
     "text": [
      "Quantizing model...\n",
      "Saving quantized model at: /home/carol/mp/quantize/q-small-arm (external data format: False)\n",
      "Configuration saved in /home/carol/mp/quantize/q-small-arm/ort_config.json\n",
      "Some non-default generation parameters are set in the model config. These should go into a GenerationConfig file (https://huggingface.co/docs/transformers/generation_strategies#save-a-custom-decoding-strategy-with-your-model) instead. This warning will be raised to an exception in v4.41.\n",
      "Non-default generation parameters: {'max_length': 448, 'suppress_tokens': [1, 2, 7, 8, 9, 10, 14, 25, 26, 27, 28, 29, 31, 58, 59, 60, 61, 62, 63, 90, 91, 92, 93, 359, 503, 522, 542, 873, 893, 902, 918, 922, 931, 1350, 1853, 1982, 2460, 2627, 3246, 3253, 3268, 3536, 3846, 3961, 4183, 4667, 6585, 6647, 7273, 9061, 9383, 10428, 10929, 11938, 12033, 12331, 12562, 13793, 14157, 14635, 15265, 15618, 16553, 16604, 18362, 18956, 20075, 21675, 22520, 26130, 26161, 26435, 28279, 29464, 31650, 32302, 32470, 36865, 42863, 47425, 49870, 50254, 50258, 50360, 50361, 50362], 'begin_suppress_tokens': [220, 50257]}\n",
      "Special tokens have been added in the vocabulary, make sure the associated word embeddings are fine-tuned or trained.\n",
      "Special tokens have been added in the vocabulary, make sure the associated word embeddings are fine-tuned or trained.\n",
      "Creating dynamic quantizer: QOperator (mode: IntegerOps, schema: u8/s8, channel-wise: False)\n"
     ]
    },
    {
     "name": "stdout",
     "output_type": "stream",
     "text": [
      "quantized  <optimum.onnxruntime.quantization.ORTQuantizer object at 0x711196ca6b30>\n"
     ]
    },
    {
     "name": "stderr",
     "output_type": "stream",
     "text": [
      "Quantizing model...\n",
      "Saving quantized model at: /home/carol/mp/quantize/q-small-arm (external data format: False)\n",
      "Configuration saved in /home/carol/mp/quantize/q-small-arm/ort_config.json\n",
      "Some non-default generation parameters are set in the model config. These should go into a GenerationConfig file (https://huggingface.co/docs/transformers/generation_strategies#save-a-custom-decoding-strategy-with-your-model) instead. This warning will be raised to an exception in v4.41.\n",
      "Non-default generation parameters: {'max_length': 448, 'suppress_tokens': [1, 2, 7, 8, 9, 10, 14, 25, 26, 27, 28, 29, 31, 58, 59, 60, 61, 62, 63, 90, 91, 92, 93, 359, 503, 522, 542, 873, 893, 902, 918, 922, 931, 1350, 1853, 1982, 2460, 2627, 3246, 3253, 3268, 3536, 3846, 3961, 4183, 4667, 6585, 6647, 7273, 9061, 9383, 10428, 10929, 11938, 12033, 12331, 12562, 13793, 14157, 14635, 15265, 15618, 16553, 16604, 18362, 18956, 20075, 21675, 22520, 26130, 26161, 26435, 28279, 29464, 31650, 32302, 32470, 36865, 42863, 47425, 49870, 50254, 50258, 50360, 50361, 50362], 'begin_suppress_tokens': [220, 50257]}\n",
      "Special tokens have been added in the vocabulary, make sure the associated word embeddings are fine-tuned or trained.\n",
      "Special tokens have been added in the vocabulary, make sure the associated word embeddings are fine-tuned or trained.\n"
     ]
    },
    {
     "name": "stdout",
     "output_type": "stream",
     "text": [
      "quantized  <optimum.onnxruntime.quantization.ORTQuantizer object at 0x7111971db7c0>\n",
      "Quantization complete\n"
     ]
    }
   ],
   "source": [
    "quantize_arm(\"/home/carol/mp/quantize/small\",\"/home/carol/mp/quantize/q-small-arm\")"
   ]
  },
  {
   "cell_type": "markdown",
   "id": "d26c788d-8dd4-4024-8880-a88b5f3b8dc4",
   "metadata": {},
   "source": [
    "\n",
    "\n",
    "\n",
    "\n",
    "# Inference on ONNX models\n",
    "\n"
   ]
  },
  {
   "cell_type": "code",
   "execution_count": 1,
   "id": "06606019-b5eb-4f40-a950-d872512f9de0",
   "metadata": {},
   "outputs": [
    {
     "name": "stderr",
     "output_type": "stream",
     "text": [
      "/home/carol/mp/quantize/intel/lib/python3.10/site-packages/tqdm/auto.py:21: TqdmWarning: IProgress not found. Please update jupyter and ipywidgets. See https://ipywidgets.readthedocs.io/en/stable/user_install.html\n",
      "  from .autonotebook import tqdm as notebook_tqdm\n",
      "2024-03-11 00:21:10.902292: E external/local_xla/xla/stream_executor/cuda/cuda_dnn.cc:9261] Unable to register cuDNN factory: Attempting to register factory for plugin cuDNN when one has already been registered\n",
      "2024-03-11 00:21:10.902398: E external/local_xla/xla/stream_executor/cuda/cuda_fft.cc:607] Unable to register cuFFT factory: Attempting to register factory for plugin cuFFT when one has already been registered\n",
      "2024-03-11 00:21:10.981362: E external/local_xla/xla/stream_executor/cuda/cuda_blas.cc:1515] Unable to register cuBLAS factory: Attempting to register factory for plugin cuBLAS when one has already been registered\n",
      "2024-03-11 00:21:11.121377: I tensorflow/core/platform/cpu_feature_guard.cc:182] This TensorFlow binary is optimized to use available CPU instructions in performance-critical operations.\n",
      "To enable the following instructions: AVX2 FMA, in other operations, rebuild TensorFlow with the appropriate compiler flags.\n",
      "2024-03-11 00:21:12.212735: W tensorflow/compiler/tf2tensorrt/utils/py_utils.cc:38] TF-TRT Warning: Could not find TensorRT\n"
     ]
    }
   ],
   "source": [
    "import os\n",
    "import librosa\n",
    "import time\n",
    "from transformers import WhisperProcessor, AutoConfig\n",
    "from optimum.onnxruntime import ORTModelForSpeechSeq2Seq\n",
    "\n",
    "def run(model_name, audio):\n",
    "    #define odel path\n",
    "    model_path = os.path.join(\"/home/carol/mp/quantize\", model_name)\n",
    "    # Load the model and processor\n",
    "    processor = WhisperProcessor.from_pretrained(model_name)\n",
    "    model_config = AutoConfig.from_pretrained(model_name)\n",
    "    sessions = ORTModelForSpeechSeq2Seq.load_model(\n",
    "                os.path.join(model_path, 'encoder_model.onnx'),\n",
    "                os.path.join(model_path, 'decoder_model.onnx'),\n",
    "                os.path.join(model_path, 'decoder_with_past_model.onnx'))\n",
    "    model = ORTModelForSpeechSeq2Seq(sessions[0], sessions[1], model_config, model_path, sessions[2])\n",
    "\n",
    "    # Load the audio file\n",
    "    audio_data, sample_rate = librosa.load(audio, sr=16000, mono=True)\n",
    "\n",
    "    # Preprocess the audio\n",
    "    input_features = processor(audio_data, sampling_rate=sample_rate, return_tensors=\"pt\").input_features\n",
    "    forced_decoder_ids = processor.get_decoder_prompt_ids(language=\"english\",task=\"translate\")\n",
    "    \n",
    "    # Measure the time taken for inference\n",
    "    start_time = time.time()\n",
    "    predicted_ids = model.generate(input_features,forced_decoder_ids=forced_decoder_ids)[0]\n",
    "    # Generate transcription\n",
    "    transcription = processor.decode(predicted_ids, skip_special_tokens=True)\n",
    "    inference_time = time.time() - start_time\n",
    "\n",
    "     # model size\n",
    "    total_size = 0\n",
    "    for dirpath, dirnames, filenames in os.walk(model_path):\n",
    "        for f in filenames:\n",
    "            fp = os.path.join(dirpath, f)\n",
    "            total_size += os.path.getsize(fp)\n",
    "    size = total_size / (1024 * 1024)  # Convert to MB\n",
    "\n",
    "    print()\n",
    "    print(\"Model name = \",model_name)\n",
    "    print()\n",
    "    print(transcription)\n",
    "    print()\n",
    "    print(\"Inference Time = \",inference_time)\n",
    "    print(\"Model size = \",size) \n",
    "    "
   ]
  },
  {
   "cell_type": "code",
   "execution_count": 16,
   "id": "f3189d93-0e51-440b-b43d-a1accd61e94e",
   "metadata": {},
   "outputs": [
    {
     "name": "stderr",
     "output_type": "stream",
     "text": [
      "Special tokens have been added in the vocabulary, make sure the associated word embeddings are fine-tuned or trained.\n"
     ]
    },
    {
     "name": "stdout",
     "output_type": "stream",
     "text": [
      "\n",
      "Model name =  q-small-arm\n",
      "\n",
      " Harvard List number one. The birch canoe slid on the smooth planks. Glue the sheet to the dark blue background. It's easy to tell the depth of a well. These days a chicken leg is a rare dish.\n",
      "\n",
      "Inference Time =  4.8225929737091064\n",
      "Model size =  457.8302516937256\n"
     ]
    }
   ],
   "source": [
    "run(\"q-small-arm\",\"sample.wav\")\n"
   ]
  },
  {
   "cell_type": "code",
   "execution_count": 15,
   "id": "d29ef494-884c-4d5d-bde0-a1e4d8f0c3d3",
   "metadata": {},
   "outputs": [
    {
     "name": "stderr",
     "output_type": "stream",
     "text": [
      "Special tokens have been added in the vocabulary, make sure the associated word embeddings are fine-tuned or trained.\n"
     ]
    },
    {
     "name": "stdout",
     "output_type": "stream",
     "text": [
      "\n",
      "Model name =  q-small\n",
      "\n",
      " Harvard List number one. The birch canoe slid on the smooth planks. Glue the sheet to the dark blue background. It's easy to tell the depth of a well. These days a chicken leg is a rare dish.\n",
      "\n",
      "Inference Time =  4.68233060836792\n",
      "Model size =  457.8302516937256\n"
     ]
    }
   ],
   "source": [
    "run(\"q-small\",\"sample.wav\")"
   ]
  },
  {
   "cell_type": "markdown",
   "id": "e9330fc0-a2fa-4012-8dbe-d685e8bf0901",
   "metadata": {},
   "source": [
    "# Quantize-arm"
   ]
  },
  {
   "cell_type": "code",
   "execution_count": null,
   "id": "a8ed0dec-5328-4c44-bbcd-9c3acda196ce",
   "metadata": {},
   "outputs": [],
   "source": [
    "quantize_arm(\"/home/carol/mp/quantize/tiny\",\"/home/carol/mp/quantize/q-tiny-arm\")"
   ]
  },
  {
   "cell_type": "code",
   "execution_count": 11,
   "id": "538e77fa-5c07-437e-9775-d800014b28c0",
   "metadata": {},
   "outputs": [
    {
     "name": "stderr",
     "output_type": "stream",
     "text": [
      "Special tokens have been added in the vocabulary, make sure the associated word embeddings are fine-tuned or trained.\n"
     ]
    },
    {
     "name": "stdout",
     "output_type": "stream",
     "text": [
      "\n",
      "Model name =  q-small-arm\n",
      "\n",
      " Harvard List number one. The birch canoe slid on the smooth planks. Glue the sheet to the dark blue background. It's easy to tell the depth of a well. These days a chicken leg is a rare dish.\n",
      "\n",
      "Inference Time =  4.75690221786499\n",
      "Model size =  457.8302516937256\n"
     ]
    }
   ],
   "source": [
    "run(\"q-small-arm\",\"sample.wav\")"
   ]
  },
  {
   "cell_type": "code",
   "execution_count": null,
   "id": "10221cc0-a0cf-4cd1-8cc9-a2cc823bb642",
   "metadata": {},
   "outputs": [],
   "source": []
  },
  {
   "cell_type": "code",
   "execution_count": null,
   "id": "f573e24c-9ee9-4279-adc5-e97146a23bca",
   "metadata": {},
   "outputs": [],
   "source": []
  },
  {
   "cell_type": "markdown",
   "id": "72fc05b1-baa8-43ea-b470-5bad8b396b56",
   "metadata": {},
   "source": [
    "# EVALUATION"
   ]
  },
  {
   "cell_type": "markdown",
   "id": "25e02404-25ae-41e2-bd23-34b2f3ea1d79",
   "metadata": {},
   "source": [
    "# runn() - with Real Time Factor (RTF)"
   ]
  },
  {
   "cell_type": "code",
   "execution_count": null,
   "id": "91eaeac6-d544-439f-be13-ef61852e9942",
   "metadata": {},
   "outputs": [],
   "source": [
    "import time\n",
    "\n",
    "def runn(model_name, audio):\n",
    "    # Define model path\n",
    "    model_path = os.path.join(\"/home/carol/mp/quantize\", model_name)\n",
    "    \n",
    "    # Load the model and processor\n",
    "    processor = WhisperProcessor.from_pretrained(model_name)\n",
    "    model_config = AutoConfig.from_pretrained(model_name)\n",
    "    sessions = ORTModelForSpeechSeq2Seq.load_model(\n",
    "                os.path.join(model_path, 'encoder_model.onnx'),\n",
    "                os.path.join(model_path, 'decoder_model.onnx'),\n",
    "                os.path.join(model_path, 'decoder_with_past_model.onnx'))\n",
    "    model = ORTModelForSpeechSeq2Seq(sessions[0], sessions[1], model_config, model_path, sessions[2])\n",
    "\n",
    "    # Load the audio file\n",
    "    audio_data, sample_rate = librosa.load(audio, sr=16000, mono=True)\n",
    "\n",
    "    # Preprocess the audio\n",
    "    start_time = time.time()\n",
    "    input_features = processor(audio_data, sampling_rate=sample_rate, return_tensors=\"pt\").input_features\n",
    "    \n",
    "    # Get forced decoder prompt IDs\n",
    "    forced_decoder_ids = processor.get_decoder_prompt_ids(language=\"english\", task=\"translate\")\n",
    "\n",
    "    # Perform model inference\n",
    "    inference_start_time = time.time()\n",
    "    predicted_ids = model.generate(input_features, forced_decoder_ids=forced_decoder_ids)[0]\n",
    "    inference_time = time.time() - inference_start_time\n",
    "\n",
    "    # Decode the predicted IDs\n",
    "    decoding_start_time = time.time()\n",
    "    transcription = processor.decode(predicted_ids, skip_special_tokens=True)\n",
    "    decoding_time = time.time() - decoding_start_time\n",
    "\n",
    "    # Calculate RTF\n",
    "    read_time = time.time() - start_time\n",
    "    total_utterance_duration = len(audio_data) / sample_rate\n",
    "    rtf = (read_time + inference_time + decoding_time) / total_utterance_duration\n",
    "\n",
    "    # Print transcription and RTF\n",
    "    print( transcription)\n",
    "    print(\"RTF:\", rtf)\n",
    "    print(\"Read time = \", read_time)\n",
    "    print(\"Inference time = \", inference_time)\n",
    "    print(\"Decoding time = \", decoding_time)\n",
    "    print(\"Total utterance duration = \", total_utterance_duration)\n",
    "\n"
   ]
  },
  {
   "cell_type": "code",
   "execution_count": null,
   "id": "5ae7beb4-b8dc-4152-809b-8d83c86669bf",
   "metadata": {},
   "outputs": [],
   "source": [
    "runn(\"tiny\",\"sample.wav\")"
   ]
  },
  {
   "cell_type": "markdown",
   "id": "39323485-a1e5-4e6c-bb6c-04a67d600e50",
   "metadata": {},
   "source": [
    "# runnn() - with mean, avg, p75 and p90"
   ]
  },
  {
   "cell_type": "code",
   "execution_count": null,
   "id": "aa0a133b-cf62-4e05-82a7-a9ac08777e5c",
   "metadata": {},
   "outputs": [],
   "source": [
    "import time\n",
    "import numpy as np\n",
    "\n",
    "def runnn(model_name, audio):\n",
    "    rtfs = []\n",
    "    transcriptions = []\n",
    "    \n",
    "    # Define model path\n",
    "    model_path = os.path.join(\"/home/carol/mp/quantize\", model_name)\n",
    "    \n",
    "    # Load the model and processor\n",
    "    processor = WhisperProcessor.from_pretrained(model_name)\n",
    "    model_config = AutoConfig.from_pretrained(model_name)\n",
    "    sessions = ORTModelForSpeechSeq2Seq.load_model(\n",
    "                os.path.join(model_path, 'encoder_model.onnx'),\n",
    "                os.path.join(model_path, 'decoder_model.onnx'),\n",
    "                os.path.join(model_path, 'decoder_with_past_model.onnx'))\n",
    "    model = ORTModelForSpeechSeq2Seq(sessions[0], sessions[1], model_config, model_path, sessions[2])\n",
    "\n",
    "    # Load the audio file\n",
    "    audio_data, sample_rate = librosa.load(audio, sr=16000, mono=True)\n",
    "\n",
    "    # Preprocess the audio\n",
    "    start_time = time.time()\n",
    "    input_features = processor(audio_data, sampling_rate=sample_rate, return_tensors=\"pt\").input_features\n",
    "    \n",
    "    # Get forced decoder prompt IDs\n",
    "    forced_decoder_ids = processor.get_decoder_prompt_ids(language=\"english\", task=\"translate\")\n",
    "\n",
    "    # Perform model inference\n",
    "    inference_start_time = time.time()\n",
    "    predicted_ids = model.generate(input_features, forced_decoder_ids=forced_decoder_ids)[0]\n",
    "    inference_time = time.time() - inference_start_time\n",
    "\n",
    "    # Decode the predicted IDs\n",
    "    decoding_start_time = time.time()\n",
    "    transcription = processor.decode(predicted_ids, skip_special_tokens=True)\n",
    "    decoding_time = time.time() - decoding_start_time\n",
    "\n",
    "    # Calculate RTF\n",
    "    read_time = time.time() - start_time\n",
    "    total_utterance_duration = len(audio_data) / sample_rate\n",
    "    rtf = (read_time + inference_time + decoding_time) / total_utterance_duration\n",
    "\n",
    "    # Print transcription and RTF\n",
    "    print( transcription)\n",
    "    print(\"RTF:\", rtf)\n",
    "    print(\"Read time = \", read_time)\n",
    "    print(\"Inference time = \", inference_time)\n",
    "    print(\"Decoding time = \", decoding_time)\n",
    "    print(\"Total utterance duration = \", total_utterance_duration)\n",
    "\n",
    "    # Append RTF and transcription to lists\n",
    "    rtfs.append(rtf)\n",
    "    transcriptions.append(transcription)\n",
    "\n",
    "    # Convert RTF list to numpy array\n",
    "    rtfs = np.array(rtfs)\n",
    "\n",
    "    # Compute statistics\n",
    "    avg_rtf = np.mean(rtfs)\n",
    "    mean_rtf = np.mean(rtfs)\n",
    "    pctl_75_rtf = np.percentile(rtfs, 75)\n",
    "    pctl_90_rtf = np.percentile(rtfs, 90)\n",
    "\n",
    "    # Print statistics\n",
    "    print(\"Average RTF:\", avg_rtf)\n",
    "    print(\"Mean RTF:\", mean_rtf)\n",
    "    print(\"75th Percentile RTF:\", pctl_75_rtf)\n",
    "    print(\"90th Percentile RTF:\", pctl_90_rtf)\n",
    "\n"
   ]
  },
  {
   "cell_type": "code",
   "execution_count": null,
   "id": "93805cf8-a303-4b20-9ea2-2ff5976b4842",
   "metadata": {},
   "outputs": [],
   "source": [
    "runnn(\"tiny\", \"sample.wav\")"
   ]
  },
  {
   "cell_type": "code",
   "execution_count": null,
   "id": "4c0412b7-ed3f-4d53-b43d-79357b1595ad",
   "metadata": {},
   "outputs": [],
   "source": [
    "fil\n"
   ]
  }
 ],
 "metadata": {
  "kernelspec": {
   "display_name": "intel",
   "language": "python",
   "name": "intel"
  },
  "language_info": {
   "codemirror_mode": {
    "name": "ipython",
    "version": 3
   },
   "file_extension": ".py",
   "mimetype": "text/x-python",
   "name": "python",
   "nbconvert_exporter": "python",
   "pygments_lexer": "ipython3",
   "version": "3.10.12"
  }
 },
 "nbformat": 4,
 "nbformat_minor": 5
}
